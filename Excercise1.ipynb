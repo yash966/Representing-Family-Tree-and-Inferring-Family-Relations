{
 "cells": [
  {
   "cell_type": "markdown",
   "id": "b2dfe235",
   "metadata": {},
   "source": [
    "## Install Pytholog "
   ]
  },
  {
   "cell_type": "code",
   "execution_count": 1,
   "id": "dd36ea30",
   "metadata": {},
   "outputs": [
    {
     "name": "stdout",
     "output_type": "stream",
     "text": [
      "Requirement already satisfied: pytholog in /Users/yashshah/opt/anaconda3/lib/python3.8/site-packages (2.4.1)\r\n",
      "Requirement already satisfied: more-itertools in /Users/yashshah/opt/anaconda3/lib/python3.8/site-packages (from pytholog) (8.7.0)\r\n"
     ]
    }
   ],
   "source": [
    "!pip install pytholog"
   ]
  },
  {
   "cell_type": "markdown",
   "id": "39327cdf",
   "metadata": {},
   "source": [
    "## Importing Pytholog as py "
   ]
  },
  {
   "cell_type": "code",
   "execution_count": 2,
   "id": "3d358297",
   "metadata": {},
   "outputs": [],
   "source": [
    "import pytholog as py"
   ]
  },
  {
   "cell_type": "markdown",
   "id": "d0d21888",
   "metadata": {},
   "source": [
    "## Defining a knowledge base object to store the facts and rules."
   ]
  },
  {
   "cell_type": "code",
   "execution_count": 3,
   "id": "fcd8843a",
   "metadata": {},
   "outputs": [],
   "source": [
    "tree = py.KnowledgeBase(\"familytree\")"
   ]
  },
  {
   "cell_type": "markdown",
   "id": "977f5e2f",
   "metadata": {},
   "source": [
    "## Biulding the relationships"
   ]
  },
  {
   "cell_type": "code",
   "execution_count": 4,
   "id": "d5984626",
   "metadata": {},
   "outputs": [],
   "source": [
    "tree([\n",
    "\n",
    "        \"father(abe, herb)\",\n",
    "        \"father(abe, homer)\",\n",
    "        \"father(clancy, marge)\",\n",
    "        \"father(clancy, patty)\",\n",
    "        \"father(clancy, selma)\",\n",
    "        \"father(homer, bart)\",\n",
    "        \"father(homer, lisa)\",\n",
    "        \"father(homer, maggie)\",\n",
    "        \"mother(mona, homer)\",\n",
    "        \"mother(mona, herb)\",\n",
    "        \"mother(marge, maggie)\",\n",
    "        \"mother(jacqueline, marge)\",\n",
    "        \"mother(jacqueline, patty)\",\n",
    "        \"mother(jacqueline, selma)\",\n",
    "        \"mother(marge, bart)\",\n",
    "        \"mother(marge, lisa)\",\n",
    "        \"mother(selma, linga)\",\n",
    "        \"male(bart)\", \n",
    "        \"male(herb)\",\n",
    "        \"male(abe)\",\n",
    "        \"male(homer)\",\n",
    "        \"male(clancy)\",\n",
    "        \"female(jacqueline)\",\n",
    "        \"female(selma)\",\n",
    "        \"female(mona)\",\n",
    "        \"female(marge)\",\n",
    "        \"female(maggie)\",\n",
    "        \"female(patty)\",\n",
    "        \"female(ling)\",\n",
    "        \"female(lisa)\",\n",
    "        \n",
    "        \n",
    "\n",
    "             \n",
    "        \"parent(B,Y) :- father(B,Y)\",\n",
    "        \"parent(B,Y) :- mother(B,Y)\",\n",
    "        \"brother(B,Y) :- neq(B,Y),father(A,B),father(A,Y),male(B)\",\n",
    "        \"sister(B,Y) :- neq(B,Y),father(A,B),father(A,Y),female(B)\",\n",
    "        \"grandmother(B,Y) :- parent(A,Y),mother(B,A)\",\n",
    "        \"grandfather(B,Y) :- parent(A,Y),father(B,A)\",\n",
    "        \"grandparent(B,Y) :- grandfather(B,Y)\",\n",
    "        \"grandparent(B,Y) :- grandmother(B,Y)\",\n",
    "        \"aunt(B,Y) :- parent(A,Y),sister(B,A)\",\n",
    "        \"uncle(B,Y) :- parent(A,Y),brother(B,A)\",\n",
    "        \"sibling(B,Y) :- brother(B,Y)\",\n",
    "        \"sibling(B,Y) :- sister(B,Y)\",\n",
    "        \"nephew(B,Y) :- parent(A,B),sibling(Y,A)\"\n",
    "     \n",
    "])"
   ]
  },
  {
   "cell_type": "code",
   "execution_count": 5,
   "id": "6e875758",
   "metadata": {},
   "outputs": [
    {
     "data": {
      "text/plain": [
       "['Yes']"
      ]
     },
     "execution_count": 5,
     "metadata": {},
     "output_type": "execute_result"
    }
   ],
   "source": [
    "tree.query(py.Expr(\"male(bart)\"))"
   ]
  },
  {
   "cell_type": "markdown",
   "id": "779fdccd",
   "metadata": {},
   "source": [
    "## Query is passed for showing the relation between Homer and Bart"
   ]
  },
  {
   "cell_type": "code",
   "execution_count": 6,
   "id": "ef6799b9",
   "metadata": {},
   "outputs": [
    {
     "data": {
      "text/plain": [
       "['Yes']"
      ]
     },
     "execution_count": 6,
     "metadata": {},
     "output_type": "execute_result"
    }
   ],
   "source": [
    "tree.query(py.Expr(\"father(homer,bart)\"))"
   ]
  },
  {
   "cell_type": "markdown",
   "id": "125d33f1",
   "metadata": {},
   "source": [
    "## Query is passed for showing the relation between Jacqueline and Selma"
   ]
  },
  {
   "cell_type": "code",
   "execution_count": 7,
   "id": "06aec101",
   "metadata": {},
   "outputs": [
    {
     "data": {
      "text/plain": [
       "['Yes']"
      ]
     },
     "execution_count": 7,
     "metadata": {},
     "output_type": "execute_result"
    }
   ],
   "source": [
    "tree.query(py.Expr(\"mother(jacqueline,selma)\"))"
   ]
  },
  {
   "cell_type": "markdown",
   "id": "c3311dc2",
   "metadata": {},
   "source": [
    "## Query is passed for showing the relation between Jacqueline and Selma"
   ]
  },
  {
   "cell_type": "code",
   "execution_count": 8,
   "id": "d4207764",
   "metadata": {},
   "outputs": [
    {
     "data": {
      "text/plain": [
       "['Yes']"
      ]
     },
     "execution_count": 8,
     "metadata": {},
     "output_type": "execute_result"
    }
   ],
   "source": [
    "tree.query(py.Expr(\"parent(jacqueline,selma)\"))"
   ]
  },
  {
   "cell_type": "markdown",
   "id": "63135607",
   "metadata": {},
   "source": [
    "## Query is passed for showing the relation between Herb and Homer"
   ]
  },
  {
   "cell_type": "code",
   "execution_count": 9,
   "id": "7f0dfd0e",
   "metadata": {},
   "outputs": [
    {
     "data": {
      "text/plain": [
       "['Yes']"
      ]
     },
     "execution_count": 9,
     "metadata": {},
     "output_type": "execute_result"
    }
   ],
   "source": [
    "tree.query(py.Expr(\"brother(herb,homer)\"))"
   ]
  },
  {
   "cell_type": "markdown",
   "id": "e56c28ca",
   "metadata": {},
   "source": [
    "## Query is passed for showing the relation between Patty and Marge"
   ]
  },
  {
   "cell_type": "code",
   "execution_count": 10,
   "id": "8f1d07c2",
   "metadata": {},
   "outputs": [
    {
     "data": {
      "text/plain": [
       "['Yes']"
      ]
     },
     "execution_count": 10,
     "metadata": {},
     "output_type": "execute_result"
    }
   ],
   "source": [
    "tree.query(py.Expr(\"sister(patty,marge)\"))"
   ]
  },
  {
   "cell_type": "markdown",
   "id": "8cfaa8bc",
   "metadata": {},
   "source": [
    "## Query is passed for showing the relation between Abe and Bart"
   ]
  },
  {
   "cell_type": "code",
   "execution_count": 11,
   "id": "b69bd42a",
   "metadata": {},
   "outputs": [
    {
     "data": {
      "text/plain": [
       "['Yes']"
      ]
     },
     "execution_count": 11,
     "metadata": {},
     "output_type": "execute_result"
    }
   ],
   "source": [
    "tree.query(py.Expr(\"grandfather(abe,bart)\"))"
   ]
  },
  {
   "cell_type": "markdown",
   "id": "8586a8b0",
   "metadata": {},
   "source": [
    "## Query is passed for showing the relation between Mona and Bart"
   ]
  },
  {
   "cell_type": "code",
   "execution_count": 12,
   "id": "ede97a1d",
   "metadata": {},
   "outputs": [
    {
     "data": {
      "text/plain": [
       "['Yes']"
      ]
     },
     "execution_count": 12,
     "metadata": {},
     "output_type": "execute_result"
    }
   ],
   "source": [
    "tree.query(py.Expr(\"grandmother(mona,bart)\"))"
   ]
  },
  {
   "cell_type": "markdown",
   "id": "065723b4",
   "metadata": {},
   "source": [
    "## Query is passed for showing the relation between Homer and Bart"
   ]
  },
  {
   "cell_type": "code",
   "execution_count": 13,
   "id": "c2024f47",
   "metadata": {},
   "outputs": [
    {
     "data": {
      "text/plain": [
       "['Yes']"
      ]
     },
     "execution_count": 13,
     "metadata": {},
     "output_type": "execute_result"
    }
   ],
   "source": [
    "tree.query(py.Expr(\"grandparent(mona,bart)\"))"
   ]
  },
  {
   "cell_type": "markdown",
   "id": "aa7103e4",
   "metadata": {},
   "source": [
    "## Query is passed for showing the relation between Herb and Bart"
   ]
  },
  {
   "cell_type": "code",
   "execution_count": 14,
   "id": "69c27d1d",
   "metadata": {},
   "outputs": [
    {
     "data": {
      "text/plain": [
       "['Yes']"
      ]
     },
     "execution_count": 14,
     "metadata": {},
     "output_type": "execute_result"
    }
   ],
   "source": [
    "tree.query(py.Expr(\"uncle(herb,bart)\"))"
   ]
  },
  {
   "cell_type": "markdown",
   "id": "9ab30436",
   "metadata": {},
   "source": [
    "## Query is passed for showing the relation between Patty and Bart"
   ]
  },
  {
   "cell_type": "code",
   "execution_count": 15,
   "id": "3390927f",
   "metadata": {},
   "outputs": [
    {
     "data": {
      "text/plain": [
       "['Yes']"
      ]
     },
     "execution_count": 15,
     "metadata": {},
     "output_type": "execute_result"
    }
   ],
   "source": [
    "tree.query(py.Expr(\"aunt(patty,bart)\"))"
   ]
  },
  {
   "cell_type": "markdown",
   "id": "7993817f",
   "metadata": {},
   "source": [
    "## Query is passed for showing the relation between Bart and Lisa"
   ]
  },
  {
   "cell_type": "code",
   "execution_count": 16,
   "id": "829f43ad",
   "metadata": {},
   "outputs": [
    {
     "data": {
      "text/plain": [
       "['Yes']"
      ]
     },
     "execution_count": 16,
     "metadata": {},
     "output_type": "execute_result"
    }
   ],
   "source": [
    "tree.query(py.Expr(\"sibling(bart,lisa)\"))"
   ]
  },
  {
   "cell_type": "code",
   "execution_count": null,
   "id": "2aa54425",
   "metadata": {},
   "outputs": [],
   "source": []
  }
 ],
 "metadata": {
  "kernelspec": {
   "display_name": "Python 3",
   "language": "python",
   "name": "python3"
  },
  "language_info": {
   "codemirror_mode": {
    "name": "ipython",
    "version": 3
   },
   "file_extension": ".py",
   "mimetype": "text/x-python",
   "name": "python",
   "nbconvert_exporter": "python",
   "pygments_lexer": "ipython3",
   "version": "3.8.8"
  }
 },
 "nbformat": 4,
 "nbformat_minor": 5
}
